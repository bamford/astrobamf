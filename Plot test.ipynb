{
 "metadata": {
  "name": "Plot test"
 },
 "nbformat": 3,
 "nbformat_minor": 0,
 "worksheets": [
  {
   "cells": [
    {
     "cell_type": "markdown",
     "metadata": {},
     "source": [
      "# Awesome test plot\n",
      "\n",
      "That's what this creates."
     ]
    },
    {
     "cell_type": "code",
     "collapsed": false,
     "input": [
      "x = arange(10)\n",
      "y = arange(10) + random.normal(0, 1, 10)\n",
      "ion()\n",
      "plot((0, 12), (0, 12), '-')\n",
      "plot(x, y, 'x')\n",
      "axis((0, 12, 0, 12))"
     ],
     "language": "python",
     "metadata": {},
     "outputs": [
      {
       "output_type": "pyout",
       "prompt_number": 11,
       "text": [
        "(0, 12, 0, 12)"
       ]
      },
      {
       "output_type": "display_data",
       "png": "[encoded data removed]"
      }
     ],
     "prompt_number": 11
    },
    {
     "cell_type": "code",
     "collapsed": false,
     "input": [],
     "language": "python",
     "metadata": {},
     "outputs": []
    }
   ],
   "metadata": {}
  }
 ]
}